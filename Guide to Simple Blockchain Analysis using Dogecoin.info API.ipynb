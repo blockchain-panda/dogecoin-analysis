{
 "cells": [
  {
   "cell_type": "markdown",
   "id": "verified-external",
   "metadata": {},
   "source": [
    "# Guide to Simple Blockchain Analysis using Dogecoin.info API\n",
    "\n",
    "\n",
    "The aim of this article to show how easy it is with a little bit of python to analyse the dogecoin blockchain and hopefully learn something in the process. The [dogecoin.info](dogecoin.info) API allows for easy access to dogecoin blockchain data. In this post I will have quick look at submitting requests and analysing the returned data."
   ]
  },
  {
   "cell_type": "markdown",
   "id": "vocal-shepherd",
   "metadata": {},
   "source": [
    "## Setup\n",
    "\n",
    "As with all python data science endeavours, first we have to import all libraries we will be using."
   ]
  },
  {
   "cell_type": "code",
   "execution_count": 303,
   "id": "distributed-processing",
   "metadata": {},
   "outputs": [],
   "source": [
    "import datetime\n",
    "import io\n",
    "import json\n",
    "import pprint\n",
    "from typing import Union\n",
    "\n",
    "import matplotlib.pyplot as plt\n",
    "import pandas as pd\n",
    "import requests\n",
    "import seaborn as sns"
   ]
  },
  {
   "cell_type": "markdown",
   "id": "premier-rendering",
   "metadata": {},
   "source": [
    "## Request Block Information From Doge Coin\n",
    "\n",
    "To send a request to [dogecoin.info](dogecoin.info) I am using the python [requests](https://requests.readthedocs.io/en/master/) library. The `get_block` function below allows us to send a simple https request to get information about an individual block by just specifying the block height. To find the current height we can use `get_current_height`, which is just a simple http request."
   ]
  },
  {
   "cell_type": "code",
   "execution_count": 25,
   "id": "plain-spirituality",
   "metadata": {},
   "outputs": [],
   "source": [
    "def get_current_height() -> Union[int, None]:\n",
    "    url = \"http://dogechain.info/chain/Dogecoin/q/getblockcount\"\n",
    "    with requests.get(url) as r:\n",
    "        if r.ok:\n",
    "            return int(r.content)\n",
    "        \n",
    "def get_block(height: int) -> Union[dict, None]:\n",
    "    url = f\"https://dogechain.info/api/v1/block/{height}\"\n",
    "    with requests.get(url) as r:\n",
    "        if r.ok:\n",
    "            return json.loads(r.content) "
   ]
  },
  {
   "cell_type": "markdown",
   "id": "unauthorized-athletics",
   "metadata": {},
   "source": [
    "Using these functions we can get the current height and retrieve the data for a given block."
   ]
  },
  {
   "cell_type": "code",
   "execution_count": 27,
   "id": "phantom-second",
   "metadata": {
    "scrolled": false
   },
   "outputs": [
    {
     "name": "stdout",
     "output_type": "stream",
     "text": [
      "Current dogecoin height: 3,641,435\n",
      "{'block': {'average_coin_age': '395.32024690',\n",
      "           'confirmations': 1,\n",
      "           'difficulty': 5357404.901646454,\n",
      "           'hash': '32bce595d10cbea0d7a897c38f9c0a8629df24524aead7478e799c9ea05646e2',\n",
      "           'height': 3641435,\n",
      "           'is_orphan': False,\n",
      "           'merkleroot': '5d07643de6e1784ed5a2ba1169a9b8761116bd12b8f8f59bb5d494c9fccb2083',\n",
      "           'next_block_hash': None,\n",
      "           'nonce': 0,\n",
      "           'num_txs': 14,\n",
      "           'previous_block_hash': '0182961c8c22b153f659936e7c34432031410d45a7e1266e07217a9fe6688eeb',\n",
      "           'time': 1615460006,\n",
      "           'txs': ['eae8fe99edf143b2564b750add70eca6d07381f38a75a1c226a4be1117cdd4a7',\n",
      "                   '8f17d5e66025a6331310076d5d8f217b6e52a7aa12f7ea5b5735816fc2097b90',\n",
      "                   '67922ff4f84a4cfabf526bf0009e2b06d67cf0427971e351e2e9969cfd1c4e29',\n",
      "                   '5d6338526282f741b340fd59964101e9be3d9378bd97ad5ed46cc4c30e6d94b8',\n",
      "                   'f4503911cb02335e423639fccf512b40cf3170a579826a2440bfe2432a92a95d',\n",
      "                   '4c9009ecf1edb0f964a0f3619cb64c34513dfe4e0843f63168b6cbfb9181ddae',\n",
      "                   'ab7b5c984ee8d7752c0098183b5e212aa006471ca153407aeea852dc2cc5267d',\n",
      "                   '754c193e93b07b779b18b81066898ebfd1d39571b680f5413618cfe6a7dacfe7',\n",
      "                   '61bd926707e7c89095b0e260871105fc9dd1d144bd0dc046a3831d7cf07a5b92',\n",
      "                   '68948d6e0b139449a31276c61228a51ad750b221b87b2103df87a6f866be2d55',\n",
      "                   '7d819208f26c04fb1d8b3cf2556c0b8b24e845534d4c68d9f326537ace1dfdb3',\n",
      "                   'c7fd9604f4f2a276f05b6ed9adb8e1d421d37ae8370d3f47e850545dd7e06ccc',\n",
      "                   'd9023bd35020d9978101bacd2173bfeed077bb215a939f620c659267269c55a4',\n",
      "                   '31479f8638475c04abbce84871bf0ebaedfa0b33d04f3f3a00e1430896710b5a'],\n",
      "           'value_in': '17542518.49462023',\n",
      "           'value_out': '17552518.49462023',\n",
      "           'version': 6422788},\n",
      " 'success': 1}\n"
     ]
    }
   ],
   "source": [
    "current_height = get_current_height()\n",
    "print(f\"Current dogecoin height: {current_height:,}\")\n",
    "pprint.pprint(get_block(current_height))"
   ]
  },
  {
   "cell_type": "markdown",
   "id": "floral-clearing",
   "metadata": {},
   "source": [
    "There is a lot of data in each block. It is worth noting the data is nested in the json object under the `block` key."
   ]
  },
  {
   "cell_type": "markdown",
   "id": "fatal-carolina",
   "metadata": {},
   "source": [
    "## Sampling Blocks\n",
    "\n",
    "Dogecoin roughly adds a block every minute and to query for every block would take a long time, so I am going to sample by requesting every 10,000th block. To get all the relevant block I just loop over the block heights and store the results in a dictionary."
   ]
  },
  {
   "cell_type": "code",
   "execution_count": 79,
   "id": "neither-leather",
   "metadata": {},
   "outputs": [],
   "source": [
    "sample_every_n_blocks = int(1e4)\n",
    "sample_block_heights = range(0, current_height, sample_every_n_blocks)\n",
    "sample_blocks = {height: get_block(height) for height in sample_block_heights}"
   ]
  },
  {
   "cell_type": "markdown",
   "id": "incredible-genetics",
   "metadata": {},
   "source": [
    "### Convert to Pandas\n",
    "To further analyse the data I convert the json objects to a pandas dataframe. First I remove any empty responses. Then as I mentioned earlier the actual block data is nested into the json object under the key `block`. These block data are then passed to pandas as a list of dictionaries. "
   ]
  },
  {
   "cell_type": "code",
   "execution_count": 309,
   "id": "alive-bench",
   "metadata": {},
   "outputs": [],
   "source": [
    "df = pd.DataFrame.from_records([block.get('block') for block in sample_blocks.values() if block])"
   ]
  },
  {
   "cell_type": "code",
   "execution_count": 310,
   "id": "superior-lexington",
   "metadata": {},
   "outputs": [
    {
     "name": "stdout",
     "output_type": "stream",
     "text": [
      "['hash', 'height', 'previous_block_hash', 'next_block_hash', 'is_orphan', 'difficulty', 'time', 'confirmations', 'merkleroot', 'num_txs', 'value_in', 'value_out', 'version', 'average_coin_age', 'nonce', 'txs']\n"
     ]
    }
   ],
   "source": [
    "print(list(df.columns))"
   ]
  },
  {
   "cell_type": "markdown",
   "id": "eleven-nature",
   "metadata": {},
   "source": [
    "All the fields are present in the dataframe, but for now I am only going to focus on a few."
   ]
  },
  {
   "cell_type": "code",
   "execution_count": 311,
   "id": "separate-bailey",
   "metadata": {},
   "outputs": [
    {
     "data": {
      "text/html": [
       "<div>\n",
       "<style scoped>\n",
       "    .dataframe tbody tr th:only-of-type {\n",
       "        vertical-align: middle;\n",
       "    }\n",
       "\n",
       "    .dataframe tbody tr th {\n",
       "        vertical-align: top;\n",
       "    }\n",
       "\n",
       "    .dataframe thead th {\n",
       "        text-align: right;\n",
       "    }\n",
       "</style>\n",
       "<table border=\"1\" class=\"dataframe\">\n",
       "  <thead>\n",
       "    <tr style=\"text-align: right;\">\n",
       "      <th></th>\n",
       "      <th>height</th>\n",
       "      <th>num_txs</th>\n",
       "      <th>value_in</th>\n",
       "      <th>value_out</th>\n",
       "      <th>average_coin_age</th>\n",
       "      <th>time</th>\n",
       "      <th>difficulty</th>\n",
       "    </tr>\n",
       "  </thead>\n",
       "  <tbody>\n",
       "    <tr>\n",
       "      <th>311</th>\n",
       "      <td>3600000</td>\n",
       "      <td>18</td>\n",
       "      <td>114339200.41422897</td>\n",
       "      <td>114349200.41422897</td>\n",
       "      <td>36435.70283672</td>\n",
       "      <td>1612832557</td>\n",
       "      <td>4.274597e+06</td>\n",
       "    </tr>\n",
       "    <tr>\n",
       "      <th>312</th>\n",
       "      <td>3610000</td>\n",
       "      <td>12</td>\n",
       "      <td>45203.74831678</td>\n",
       "      <td>55203.74831678</td>\n",
       "      <td>13037.94633612</td>\n",
       "      <td>1613465378</td>\n",
       "      <td>3.299210e+06</td>\n",
       "    </tr>\n",
       "    <tr>\n",
       "      <th>313</th>\n",
       "      <td>3620000</td>\n",
       "      <td>48</td>\n",
       "      <td>33368451.83452779</td>\n",
       "      <td>33378451.83452779</td>\n",
       "      <td>5677.22348323</td>\n",
       "      <td>1614100471</td>\n",
       "      <td>5.218543e+06</td>\n",
       "    </tr>\n",
       "    <tr>\n",
       "      <th>314</th>\n",
       "      <td>3630000</td>\n",
       "      <td>11</td>\n",
       "      <td>114010.06889251</td>\n",
       "      <td>124010.06889251</td>\n",
       "      <td>3380.10823632</td>\n",
       "      <td>1614734211</td>\n",
       "      <td>3.303403e+06</td>\n",
       "    </tr>\n",
       "    <tr>\n",
       "      <th>315</th>\n",
       "      <td>3640000</td>\n",
       "      <td>27</td>\n",
       "      <td>31908230.88046244</td>\n",
       "      <td>31918230.88046244</td>\n",
       "      <td>724.15508729</td>\n",
       "      <td>1615368753</td>\n",
       "      <td>4.471873e+06</td>\n",
       "    </tr>\n",
       "  </tbody>\n",
       "</table>\n",
       "</div>"
      ],
      "text/plain": [
       "      height  num_txs            value_in           value_out  \\\n",
       "311  3600000       18  114339200.41422897  114349200.41422897   \n",
       "312  3610000       12      45203.74831678      55203.74831678   \n",
       "313  3620000       48   33368451.83452779   33378451.83452779   \n",
       "314  3630000       11     114010.06889251     124010.06889251   \n",
       "315  3640000       27   31908230.88046244   31918230.88046244   \n",
       "\n",
       "    average_coin_age        time    difficulty  \n",
       "311   36435.70283672  1612832557  4.274597e+06  \n",
       "312   13037.94633612  1613465378  3.299210e+06  \n",
       "313    5677.22348323  1614100471  5.218543e+06  \n",
       "314    3380.10823632  1614734211  3.303403e+06  \n",
       "315     724.15508729  1615368753  4.471873e+06  "
      ]
     },
     "execution_count": 311,
     "metadata": {},
     "output_type": "execute_result"
    }
   ],
   "source": [
    "df = df[['height', 'num_txs', 'value_in', 'value_out', 'average_coin_age', 'time', 'difficulty']]\n",
    "df.tail()"
   ]
  },
  {
   "cell_type": "markdown",
   "id": "medium-irish",
   "metadata": {},
   "source": [
    "### Handling Time\n",
    "\n",
    "The creation time of each block is in the `time` column as a timestamp. This can easily be converted to a python datetime. Given the time between blocks is around 7 days, I have just rounded to the nearest date to simplify further analysis."
   ]
  },
  {
   "cell_type": "code",
   "execution_count": 312,
   "id": "adjustable-decision",
   "metadata": {},
   "outputs": [],
   "source": [
    "df.loc[:,'time'] = pd.to_datetime(df.loc[:,'time'], unit='s').dt.round('1D')\n",
    "df = df.set_index('time')"
   ]
  },
  {
   "cell_type": "code",
   "execution_count": 313,
   "id": "fallen-deposit",
   "metadata": {},
   "outputs": [
    {
     "data": {
      "text/html": [
       "<div>\n",
       "<style scoped>\n",
       "    .dataframe tbody tr th:only-of-type {\n",
       "        vertical-align: middle;\n",
       "    }\n",
       "\n",
       "    .dataframe tbody tr th {\n",
       "        vertical-align: top;\n",
       "    }\n",
       "\n",
       "    .dataframe thead th {\n",
       "        text-align: right;\n",
       "    }\n",
       "</style>\n",
       "<table border=\"1\" class=\"dataframe\">\n",
       "  <thead>\n",
       "    <tr style=\"text-align: right;\">\n",
       "      <th></th>\n",
       "      <th>height</th>\n",
       "      <th>num_txs</th>\n",
       "      <th>value_in</th>\n",
       "      <th>value_out</th>\n",
       "      <th>average_coin_age</th>\n",
       "      <th>difficulty</th>\n",
       "    </tr>\n",
       "    <tr>\n",
       "      <th>time</th>\n",
       "      <th></th>\n",
       "      <th></th>\n",
       "      <th></th>\n",
       "      <th></th>\n",
       "      <th></th>\n",
       "      <th></th>\n",
       "    </tr>\n",
       "  </thead>\n",
       "  <tbody>\n",
       "    <tr>\n",
       "      <th>2021-02-09</th>\n",
       "      <td>3600000</td>\n",
       "      <td>18</td>\n",
       "      <td>114339200.41422897</td>\n",
       "      <td>114349200.41422897</td>\n",
       "      <td>36435.70283672</td>\n",
       "      <td>4.274597e+06</td>\n",
       "    </tr>\n",
       "    <tr>\n",
       "      <th>2021-02-16</th>\n",
       "      <td>3610000</td>\n",
       "      <td>12</td>\n",
       "      <td>45203.74831678</td>\n",
       "      <td>55203.74831678</td>\n",
       "      <td>13037.94633612</td>\n",
       "      <td>3.299210e+06</td>\n",
       "    </tr>\n",
       "    <tr>\n",
       "      <th>2021-02-24</th>\n",
       "      <td>3620000</td>\n",
       "      <td>48</td>\n",
       "      <td>33368451.83452779</td>\n",
       "      <td>33378451.83452779</td>\n",
       "      <td>5677.22348323</td>\n",
       "      <td>5.218543e+06</td>\n",
       "    </tr>\n",
       "    <tr>\n",
       "      <th>2021-03-03</th>\n",
       "      <td>3630000</td>\n",
       "      <td>11</td>\n",
       "      <td>114010.06889251</td>\n",
       "      <td>124010.06889251</td>\n",
       "      <td>3380.10823632</td>\n",
       "      <td>3.303403e+06</td>\n",
       "    </tr>\n",
       "    <tr>\n",
       "      <th>2021-03-10</th>\n",
       "      <td>3640000</td>\n",
       "      <td>27</td>\n",
       "      <td>31908230.88046244</td>\n",
       "      <td>31918230.88046244</td>\n",
       "      <td>724.15508729</td>\n",
       "      <td>4.471873e+06</td>\n",
       "    </tr>\n",
       "  </tbody>\n",
       "</table>\n",
       "</div>"
      ],
      "text/plain": [
       "             height  num_txs            value_in           value_out  \\\n",
       "time                                                                   \n",
       "2021-02-09  3600000       18  114339200.41422897  114349200.41422897   \n",
       "2021-02-16  3610000       12      45203.74831678      55203.74831678   \n",
       "2021-02-24  3620000       48   33368451.83452779   33378451.83452779   \n",
       "2021-03-03  3630000       11     114010.06889251     124010.06889251   \n",
       "2021-03-10  3640000       27   31908230.88046244   31918230.88046244   \n",
       "\n",
       "           average_coin_age    difficulty  \n",
       "time                                       \n",
       "2021-02-09   36435.70283672  4.274597e+06  \n",
       "2021-02-16   13037.94633612  3.299210e+06  \n",
       "2021-02-24    5677.22348323  5.218543e+06  \n",
       "2021-03-03    3380.10823632  3.303403e+06  \n",
       "2021-03-10     724.15508729  4.471873e+06  "
      ]
     },
     "execution_count": 313,
     "metadata": {},
     "output_type": "execute_result"
    }
   ],
   "source": [
    "df.tail()"
   ]
  },
  {
   "cell_type": "markdown",
   "id": "focused-brighton",
   "metadata": {},
   "source": [
    "### Price Data\n",
    "As part of most blockchain analysis we probably want to include the value of doge against the US dollar. There are many APIs and websites that provide price data but for simplicity I use [yahoo finance](https://finance.yahoo.com/quote/DOGE-USD/). By simply specifying the currency pair (in this case DOGE/USD) and the start and stop times you can get the open, high, low and close prices trivially.\n",
    "\n",
    "By using the requests library again we can get pull the prices. By using the min and max times of our blockchain data we can request the relevant timespan from yahoo as well. The yahoo finance data is returned as bytes and we can use `io.BytesIO` to push the data into pandas."
   ]
  },
  {
   "cell_type": "code",
   "execution_count": 314,
   "id": "surprising-china",
   "metadata": {},
   "outputs": [],
   "source": [
    "def get_doge_price_data(start_timestamp: int, end_timestamp: int) -> Union[bytes, None]:\n",
    "    \n",
    "    url = f\"https://query1.finance.yahoo.com/v7/finance/download/DOGE-USD?period1={start_timestamp}&period2={end_timestamp}&interval=1d&events=history\"\n",
    "    with requests.get(url) as r:\n",
    "        if r.ok:\n",
    "            return r.content"
   ]
  },
  {
   "cell_type": "code",
   "execution_count": 315,
   "id": "accessory-providence",
   "metadata": {},
   "outputs": [
    {
     "data": {
      "text/html": [
       "<div>\n",
       "<style scoped>\n",
       "    .dataframe tbody tr th:only-of-type {\n",
       "        vertical-align: middle;\n",
       "    }\n",
       "\n",
       "    .dataframe tbody tr th {\n",
       "        vertical-align: top;\n",
       "    }\n",
       "\n",
       "    .dataframe thead th {\n",
       "        text-align: right;\n",
       "    }\n",
       "</style>\n",
       "<table border=\"1\" class=\"dataframe\">\n",
       "  <thead>\n",
       "    <tr style=\"text-align: right;\">\n",
       "      <th></th>\n",
       "      <th>Date</th>\n",
       "      <th>Open</th>\n",
       "      <th>High</th>\n",
       "      <th>Low</th>\n",
       "      <th>Close</th>\n",
       "      <th>Adj Close</th>\n",
       "      <th>Volume</th>\n",
       "    </tr>\n",
       "  </thead>\n",
       "  <tbody>\n",
       "    <tr>\n",
       "      <th>0</th>\n",
       "      <td>2014-09-17</td>\n",
       "      <td>0.000293</td>\n",
       "      <td>0.000299</td>\n",
       "      <td>0.000260</td>\n",
       "      <td>0.000268</td>\n",
       "      <td>0.000268</td>\n",
       "      <td>1463600.0</td>\n",
       "    </tr>\n",
       "    <tr>\n",
       "      <th>1</th>\n",
       "      <td>2014-09-18</td>\n",
       "      <td>0.000268</td>\n",
       "      <td>0.000325</td>\n",
       "      <td>0.000267</td>\n",
       "      <td>0.000298</td>\n",
       "      <td>0.000298</td>\n",
       "      <td>2215910.0</td>\n",
       "    </tr>\n",
       "    <tr>\n",
       "      <th>2</th>\n",
       "      <td>2014-09-19</td>\n",
       "      <td>0.000298</td>\n",
       "      <td>0.000307</td>\n",
       "      <td>0.000275</td>\n",
       "      <td>0.000277</td>\n",
       "      <td>0.000277</td>\n",
       "      <td>883563.0</td>\n",
       "    </tr>\n",
       "    <tr>\n",
       "      <th>3</th>\n",
       "      <td>2014-09-20</td>\n",
       "      <td>0.000276</td>\n",
       "      <td>0.000310</td>\n",
       "      <td>0.000267</td>\n",
       "      <td>0.000292</td>\n",
       "      <td>0.000292</td>\n",
       "      <td>993004.0</td>\n",
       "    </tr>\n",
       "    <tr>\n",
       "      <th>4</th>\n",
       "      <td>2014-09-21</td>\n",
       "      <td>0.000293</td>\n",
       "      <td>0.000299</td>\n",
       "      <td>0.000284</td>\n",
       "      <td>0.000288</td>\n",
       "      <td>0.000288</td>\n",
       "      <td>539140.0</td>\n",
       "    </tr>\n",
       "  </tbody>\n",
       "</table>\n",
       "</div>"
      ],
      "text/plain": [
       "        Date      Open      High       Low     Close  Adj Close     Volume\n",
       "0 2014-09-17  0.000293  0.000299  0.000260  0.000268   0.000268  1463600.0\n",
       "1 2014-09-18  0.000268  0.000325  0.000267  0.000298   0.000298  2215910.0\n",
       "2 2014-09-19  0.000298  0.000307  0.000275  0.000277   0.000277   883563.0\n",
       "3 2014-09-20  0.000276  0.000310  0.000267  0.000292   0.000292   993004.0\n",
       "4 2014-09-21  0.000293  0.000299  0.000284  0.000288   0.000288   539140.0"
      ]
     },
     "execution_count": 315,
     "metadata": {},
     "output_type": "execute_result"
    }
   ],
   "source": [
    "price_data = get_doge_price_data(int(df.index.min().timestamp()), int(df.index.max().timestamp()))\n",
    "df_price = pd.read_csv(io.BytesIO(price_data), parse_dates=['Date'])\n",
    "df_price.head()"
   ]
  },
  {
   "cell_type": "markdown",
   "id": "arbitrary-address",
   "metadata": {},
   "source": [
    "### Joining Price Data and Blockchain Data\n",
    "\n",
    "We now have two dataframes: one of blockchain data and one of prices, but it would be better if we could combine them. Given they both contain a date column we can use this for the joining."
   ]
  },
  {
   "cell_type": "code",
   "execution_count": 316,
   "id": "elementary-sender",
   "metadata": {},
   "outputs": [],
   "source": [
    "df = pd.merge(df, df_price[['Date','Close']], left_index=True, right_on='Date')\n",
    "df.set_index('Date', inplace=True)"
   ]
  },
  {
   "cell_type": "code",
   "execution_count": 317,
   "id": "closed-sheep",
   "metadata": {},
   "outputs": [
    {
     "data": {
      "text/html": [
       "<div>\n",
       "<style scoped>\n",
       "    .dataframe tbody tr th:only-of-type {\n",
       "        vertical-align: middle;\n",
       "    }\n",
       "\n",
       "    .dataframe tbody tr th {\n",
       "        vertical-align: top;\n",
       "    }\n",
       "\n",
       "    .dataframe thead th {\n",
       "        text-align: right;\n",
       "    }\n",
       "</style>\n",
       "<table border=\"1\" class=\"dataframe\">\n",
       "  <thead>\n",
       "    <tr style=\"text-align: right;\">\n",
       "      <th></th>\n",
       "      <th>height</th>\n",
       "      <th>num_txs</th>\n",
       "      <th>value_in</th>\n",
       "      <th>value_out</th>\n",
       "      <th>average_coin_age</th>\n",
       "      <th>difficulty</th>\n",
       "      <th>Close</th>\n",
       "    </tr>\n",
       "    <tr>\n",
       "      <th>Date</th>\n",
       "      <th></th>\n",
       "      <th></th>\n",
       "      <th></th>\n",
       "      <th></th>\n",
       "      <th></th>\n",
       "      <th></th>\n",
       "      <th></th>\n",
       "    </tr>\n",
       "  </thead>\n",
       "  <tbody>\n",
       "    <tr>\n",
       "      <th>2021-02-09</th>\n",
       "      <td>3600000</td>\n",
       "      <td>18</td>\n",
       "      <td>114339200.41422897</td>\n",
       "      <td>114349200.41422897</td>\n",
       "      <td>36435.70283672</td>\n",
       "      <td>4.274597e+06</td>\n",
       "      <td>0.070070</td>\n",
       "    </tr>\n",
       "    <tr>\n",
       "      <th>2021-02-16</th>\n",
       "      <td>3610000</td>\n",
       "      <td>12</td>\n",
       "      <td>45203.74831678</td>\n",
       "      <td>55203.74831678</td>\n",
       "      <td>13037.94633612</td>\n",
       "      <td>3.299210e+06</td>\n",
       "      <td>0.053520</td>\n",
       "    </tr>\n",
       "    <tr>\n",
       "      <th>2021-02-24</th>\n",
       "      <td>3620000</td>\n",
       "      <td>48</td>\n",
       "      <td>33368451.83452779</td>\n",
       "      <td>33378451.83452779</td>\n",
       "      <td>5677.22348323</td>\n",
       "      <td>5.218543e+06</td>\n",
       "      <td>0.056555</td>\n",
       "    </tr>\n",
       "    <tr>\n",
       "      <th>2021-03-03</th>\n",
       "      <td>3630000</td>\n",
       "      <td>11</td>\n",
       "      <td>114010.06889251</td>\n",
       "      <td>124010.06889251</td>\n",
       "      <td>3380.10823632</td>\n",
       "      <td>3.303403e+06</td>\n",
       "      <td>0.050592</td>\n",
       "    </tr>\n",
       "    <tr>\n",
       "      <th>2021-03-10</th>\n",
       "      <td>3640000</td>\n",
       "      <td>27</td>\n",
       "      <td>31908230.88046244</td>\n",
       "      <td>31918230.88046244</td>\n",
       "      <td>724.15508729</td>\n",
       "      <td>4.471873e+06</td>\n",
       "      <td>0.056004</td>\n",
       "    </tr>\n",
       "  </tbody>\n",
       "</table>\n",
       "</div>"
      ],
      "text/plain": [
       "             height  num_txs            value_in           value_out  \\\n",
       "Date                                                                   \n",
       "2021-02-09  3600000       18  114339200.41422897  114349200.41422897   \n",
       "2021-02-16  3610000       12      45203.74831678      55203.74831678   \n",
       "2021-02-24  3620000       48   33368451.83452779   33378451.83452779   \n",
       "2021-03-03  3630000       11     114010.06889251     124010.06889251   \n",
       "2021-03-10  3640000       27   31908230.88046244   31918230.88046244   \n",
       "\n",
       "           average_coin_age    difficulty     Close  \n",
       "Date                                                 \n",
       "2021-02-09   36435.70283672  4.274597e+06  0.070070  \n",
       "2021-02-16   13037.94633612  3.299210e+06  0.053520  \n",
       "2021-02-24    5677.22348323  5.218543e+06  0.056555  \n",
       "2021-03-03    3380.10823632  3.303403e+06  0.050592  \n",
       "2021-03-10     724.15508729  4.471873e+06  0.056004  "
      ]
     },
     "execution_count": 317,
     "metadata": {},
     "output_type": "execute_result"
    }
   ],
   "source": [
    "df.tail()"
   ]
  },
  {
   "cell_type": "markdown",
   "id": "municipal-metabolism",
   "metadata": {},
   "source": [
    "### Correlations\n",
    "\n",
    "Now we have a rather our dataframe will all the data of interest lets have a quick look at correlations between columns. For this I am using pandas `corr()` functionality and the seaborn heatmap. Before the correlation a few of the columns need to be converted to a numeric data type. This goes back to the format of the json returned by dogecoin.info as some of the numeric values are returned as strings."
   ]
  },
  {
   "cell_type": "code",
   "execution_count": 321,
   "id": "searching-entity",
   "metadata": {},
   "outputs": [],
   "source": [
    "df['value_in'] = pd.to_numeric(df['value_in'])\n",
    "df['value_out'] = pd.to_numeric(df['value_out'])\n",
    "df['average_coin_age'] = pd.to_numeric(df['average_coin_age'])"
   ]
  },
  {
   "cell_type": "code",
   "execution_count": 319,
   "id": "greatest-homeless",
   "metadata": {},
   "outputs": [
    {
     "data": {
      "image/png": "[encoded data removed]",
      "text/plain": [
       "<Figure size 864x432 with 2 Axes>"
      ]
     },
     "metadata": {
      "needs_background": "light"
     },
     "output_type": "display_data"
    }
   ],
   "source": [
    "fig, ax = plt.subplots(figsize=(12,6))\n",
    "sns.heatmap(df.corr(), annot=True, ax=ax);"
   ]
  },
  {
   "cell_type": "markdown",
   "id": "mighty-suggestion",
   "metadata": {},
   "source": [
    "Unsurprisingly the value_in and value_out are perfectly correlated. Aside from this the strongest correlation found is between blockchain height and difficulty."
   ]
  },
  {
   "cell_type": "markdown",
   "id": "split-recording",
   "metadata": {},
   "source": [
    "### Time Series\n",
    "\n",
    "Lets have a look at how difficulty varies over time. Above we used height, but given the near-constant rate of block creations we can switch to time and in the process get a more interpretable feature.\n",
    "\n",
    "Below we have made of pandas and matplotlib to visualise the DOGE/USD price and the difficulty. To smooth out the spikes we have used the `rolling` pandas method to calculate a rolling mean. As doge spent most of its initial life at a very low price and in the last couple of years has jumped significantly we have a very wide range of values to represent. To achieve we have a log y-scale."
   ]
  },
  {
   "cell_type": "code",
   "execution_count": 341,
   "id": "considered-reviewer",
   "metadata": {},
   "outputs": [
    {
     "data": {
      "image/png": "[encoded data removed]",
      "text/plain": [
       "<Figure size 864x864 with 2 Axes>"
      ]
     },
     "metadata": {
      "needs_background": "light"
     },
     "output_type": "display_data"
    }
   ],
   "source": [
    "fig, (ax1, ax2) = plt.subplots(figsize=(12,12), nrows=2)\n",
    "\n",
    "df['Close'].plot(ax=ax1, label='Close')\n",
    "df['Close'].rolling(7).mean().plot(ax=ax1, label='rolling mean Close')\n",
    "ax1.set_ylabel('Closing price DOGE / USD')\n",
    "ax1.set_yscale('log')\n",
    "ax1.legend()\n",
    "\n",
    "df['difficulty'].plot(ax=ax2, label='difficulty')\n",
    "df['difficulty'].rolling(7).mean().plot(ax=ax2, label='rolling mean difficulty')\n",
    "ax2.set_ylabel('difficulty')\n",
    "ax2.set_yscale('log')\n",
    "ax2.legend();"
   ]
  },
  {
   "cell_type": "markdown",
   "id": "compound-disorder",
   "metadata": {},
   "source": [
    "Both plots show initial low and rather flat values between 2015 and 2017. Then with a step-change in both. In the last few months we have another step-change in price, but have yet to see the same in difficulty. It would be interesting to recreate this plot in a couple of months to see if difficulty increases and whether miners have moved to doge."
   ]
  },
  {
   "cell_type": "markdown",
   "id": "reported-carol",
   "metadata": {},
   "source": [
    "## Conclusion\n",
    "\n",
    "With just a little bit of python we have pulled blockchain data and price data from two APIs. We have then converted this raw data into something usable (pandas dataframe. Then using some simple visualisations maybe found out some new information about the dogecoin blockchain!\n",
    "\n",
    "This article is available as a jupyter notebook on [github](https://github.com/blockchain-panda/dogecoin-analysis)."
   ]
  }
 ],
 "metadata": {
  "kernelspec": {
   "display_name": "Python 3",
   "language": "python",
   "name": "python3"
  },
  "language_info": {
   "codemirror_mode": {
    "name": "ipython",
    "version": 3
   },
   "file_extension": ".py",
   "mimetype": "text/x-python",
   "name": "python",
   "nbconvert_exporter": "python",
   "pygments_lexer": "ipython3",
   "version": "3.8.5"
  }
 },
 "nbformat": 4,
 "nbformat_minor": 5
}
